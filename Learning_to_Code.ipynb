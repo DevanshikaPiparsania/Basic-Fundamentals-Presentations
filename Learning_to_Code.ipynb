{
  "nbformat": 4,
  "nbformat_minor": 0,
  "metadata": {
    "colab": {
      "provenance": [],
      "authorship_tag": "ABX9TyM8v2n4lpKud6rhFna1tlKL",
      "include_colab_link": true
    },
    "kernelspec": {
      "name": "python3",
      "display_name": "Python 3"
    },
    "language_info": {
      "name": "python"
    }
  },
  "cells": [
    {
      "cell_type": "markdown",
      "metadata": {
        "id": "view-in-github",
        "colab_type": "text"
      },
      "source": [
        "<a href=\"https://colab.research.google.com/github/DevanshikaPiparsania/Basic-Fundamentals-Presentations/blob/main/Learning_to_Code.ipynb\" target=\"_parent\"><img src=\"https://colab.research.google.com/assets/colab-badge.svg\" alt=\"Open In Colab\"/></a>"
      ]
    },
    {
      "cell_type": "markdown",
      "source": [],
      "metadata": {
        "id": "hU41IAav7ZpS"
      }
    },
    {
      "cell_type": "code",
      "execution_count": 3,
      "metadata": {
        "colab": {
          "base_uri": "https://localhost:8080/"
        },
        "id": "UllONJs0lr_r",
        "outputId": "9858716b-5cc7-4fe6-fb44-a96d2bc195d1"
      },
      "outputs": [
        {
          "output_type": "stream",
          "name": "stdout",
          "text": [
            "Hello World\n"
          ]
        }
      ],
      "source": [
        "print(\"Hello World\")"
      ]
    },
    {
      "cell_type": "code",
      "source": [
        "print(hello)"
      ],
      "metadata": {
        "colab": {
          "base_uri": "https://localhost:8080/",
          "height": 141
        },
        "id": "uVRKCILDv5dS",
        "outputId": "c698d25f-ead9-4d6c-e93c-c4c873cc808a"
      },
      "execution_count": 4,
      "outputs": [
        {
          "output_type": "error",
          "ename": "NameError",
          "evalue": "name 'hello' is not defined",
          "traceback": [
            "\u001b[0;31m---------------------------------------------------------------------------\u001b[0m",
            "\u001b[0;31mNameError\u001b[0m                                 Traceback (most recent call last)",
            "\u001b[0;32m<ipython-input-4-1cd80308eb4c>\u001b[0m in \u001b[0;36m<cell line: 1>\u001b[0;34m()\u001b[0m\n\u001b[0;32m----> 1\u001b[0;31m \u001b[0mprint\u001b[0m\u001b[0;34m(\u001b[0m\u001b[0mhello\u001b[0m\u001b[0;34m)\u001b[0m\u001b[0;34m\u001b[0m\u001b[0;34m\u001b[0m\u001b[0m\n\u001b[0m",
            "\u001b[0;31mNameError\u001b[0m: name 'hello' is not defined"
          ]
        }
      ]
    },
    {
      "cell_type": "code",
      "source": [
        "msg = \"Hello World!!\"\n",
        "print(msg)\n",
        "hasCat=True\n",
        "print(\"I have a cat:\"+str(hasCat)) #<-- This is a string concatination, I am adding a String to a variable the boolean become a tring by using stt()\n",
        "age =  6\n",
        "print(\"I am \"+str(age)+\" years old\")\n",
        "balance = 25000.25\n",
        "print(\"You have\"+str(balance)+\"balance left in your bank account\")"
      ],
      "metadata": {
        "colab": {
          "base_uri": "https://localhost:8080/"
        },
        "id": "A5pSpDm2x47y",
        "outputId": "4b8f91a6-725c-4f0a-f63e-4889481207df"
      },
      "execution_count": 9,
      "outputs": [
        {
          "output_type": "stream",
          "name": "stdout",
          "text": [
            "Hello World!!\n",
            "I have a cat:True\n",
            "I am 6 years old\n",
            "You have25000.25balance left in your bank account\n"
          ]
        }
      ]
    },
    {
      "cell_type": "code",
      "source": [
        "FirstName? = \"Tom\""
      ],
      "metadata": {
        "colab": {
          "base_uri": "https://localhost:8080/",
          "height": 106
        },
        "id": "l8oVZMeG4TNj",
        "outputId": "6b1d3a79-da6c-4844-bddc-6cdfc659da86"
      },
      "execution_count": 10,
      "outputs": [
        {
          "output_type": "error",
          "ename": "SyntaxError",
          "evalue": "invalid syntax (<ipython-input-10-1fb19b858bb0>, line 1)",
          "traceback": [
            "\u001b[0;36m  File \u001b[0;32m\"<ipython-input-10-1fb19b858bb0>\"\u001b[0;36m, line \u001b[0;32m1\u001b[0m\n\u001b[0;31m    FirstName? = \"Tom\"\u001b[0m\n\u001b[0m             ^\u001b[0m\n\u001b[0;31mSyntaxError\u001b[0m\u001b[0;31m:\u001b[0m invalid syntax\n"
          ]
        }
      ]
    },
    {
      "cell_type": "code",
      "source": [
        "First_Name = \"Tom\"\n",
        "print(First_Name)"
      ],
      "metadata": {
        "colab": {
          "base_uri": "https://localhost:8080/"
        },
        "id": "hD7mb2-64WHL",
        "outputId": "f632a8cc-f23b-4cc3-f29d-adc3d876cdb6"
      },
      "execution_count": 12,
      "outputs": [
        {
          "output_type": "stream",
          "name": "stdout",
          "text": [
            "Tom\n"
          ]
        }
      ]
    },
    {
      "cell_type": "code",
      "source": [
        "First-Name = True"
      ],
      "metadata": {
        "colab": {
          "base_uri": "https://localhost:8080/",
          "height": 106
        },
        "id": "lCPRtWUF4mqb",
        "outputId": "87a2af50-e5b4-46dd-bba2-7798775ba336"
      },
      "execution_count": 13,
      "outputs": [
        {
          "output_type": "error",
          "ename": "SyntaxError",
          "evalue": "cannot assign to expression here. Maybe you meant '==' instead of '='? (<ipython-input-13-3a97e1b0c1e6>, line 1)",
          "traceback": [
            "\u001b[0;36m  File \u001b[0;32m\"<ipython-input-13-3a97e1b0c1e6>\"\u001b[0;36m, line \u001b[0;32m1\u001b[0m\n\u001b[0;31m    First-Name = True\u001b[0m\n\u001b[0m    ^\u001b[0m\n\u001b[0;31mSyntaxError\u001b[0m\u001b[0;31m:\u001b[0m cannot assign to expression here. Maybe you meant '==' instead of '='?\n"
          ]
        }
      ]
    },
    {
      "cell_type": "code",
      "source": [
        "x=5\n",
        "X=7\n",
        "print(x)\n",
        "print(X)"
      ],
      "metadata": {
        "colab": {
          "base_uri": "https://localhost:8080/"
        },
        "id": "0fixm9uz4WpJ",
        "outputId": "386137ce-74d6-47b6-c61f-bdfa14d088ee"
      },
      "execution_count": 14,
      "outputs": [
        {
          "output_type": "stream",
          "name": "stdout",
          "text": [
            "5\n",
            "7\n"
          ]
        }
      ]
    },
    {
      "cell_type": "code",
      "source": [
        "x= \"Dog\"\n",
        "y=\"cat\"\n",
        "z=\"Dog\"\n",
        "print(x==y)\n",
        "print(x==z)"
      ],
      "metadata": {
        "colab": {
          "base_uri": "https://localhost:8080/"
        },
        "id": "W9cMHqir8vNW",
        "outputId": "4befc040-e904-4bd7-e259-19988dd49f6a"
      },
      "execution_count": 15,
      "outputs": [
        {
          "output_type": "stream",
          "name": "stdout",
          "text": [
            "False\n",
            "True\n"
          ]
        }
      ]
    },
    {
      "cell_type": "code",
      "source": [
        "x= \"Dog\"\n",
        "y=\"cat\"\n",
        "z=\"Dog\"\n",
        "print(x!=y)\n",
        "print(x=z)"
      ],
      "metadata": {
        "colab": {
          "base_uri": "https://localhost:8080/"
        },
        "id": "IwbRtGUm9xwj",
        "outputId": "d9705cfb-bf9e-4030-ffb8-654a42d0f045"
      },
      "execution_count": 16,
      "outputs": [
        {
          "output_type": "stream",
          "name": "stdout",
          "text": [
            "True\n",
            "False\n"
          ]
        }
      ]
    },
    {
      "cell_type": "markdown",
      "source": [
        "*Logical Operator*"
      ],
      "metadata": {
        "id": "ZBofF_Jg_uvY"
      }
    },
    {
      "cell_type": "markdown",
      "source": [
        "AND"
      ],
      "metadata": {
        "id": "VWSfGPKjAMfd"
      }
    },
    {
      "cell_type": "code",
      "source": [
        "x= True\n",
        "y= False\n",
        "z= True\n",
        "print(x and y)\n",
        "print (x and z)"
      ],
      "metadata": {
        "colab": {
          "base_uri": "https://localhost:8080/"
        },
        "id": "w9rpk966_s7R",
        "outputId": "6f40f988-122c-4ce7-d366-da14d821f725"
      },
      "execution_count": 17,
      "outputs": [
        {
          "output_type": "stream",
          "name": "stdout",
          "text": [
            "False\n",
            "True\n"
          ]
        }
      ]
    },
    {
      "cell_type": "markdown",
      "source": [
        "OR"
      ],
      "metadata": {
        "id": "as_3t1nMAafg"
      }
    },
    {
      "cell_type": "code",
      "source": [
        "x= True\n",
        "y= False\n",
        "z= False\n",
        "print(x or y)\n",
        "print (y or z)"
      ],
      "metadata": {
        "colab": {
          "base_uri": "https://localhost:8080/"
        },
        "id": "uSc3QasVAda_",
        "outputId": "2471181e-ad90-4758-c3cd-ee9684aac36c"
      },
      "execution_count": 18,
      "outputs": [
        {
          "output_type": "stream",
          "name": "stdout",
          "text": [
            "True\n",
            "False\n"
          ]
        }
      ]
    },
    {
      "cell_type": "markdown",
      "source": [
        "NOT"
      ],
      "metadata": {
        "id": "mNK9wmtsAo40"
      }
    },
    {
      "cell_type": "code",
      "source": [
        "x= True\n",
        "y= False\n",
        "print(not x)\n",
        "print (not y)"
      ],
      "metadata": {
        "colab": {
          "base_uri": "https://localhost:8080/"
        },
        "id": "gml1_y6zAygc",
        "outputId": "e2ba41ac-4975-4ad5-f511-320f44bfd641"
      },
      "execution_count": 19,
      "outputs": [
        {
          "output_type": "stream",
          "name": "stdout",
          "text": [
            "False\n",
            "True\n"
          ]
        }
      ]
    },
    {
      "cell_type": "markdown",
      "source": [
        "Conditional -> Putting it together"
      ],
      "metadata": {
        "id": "4yribyG3fhj4"
      }
    },
    {
      "cell_type": "code",
      "source": [
        "disease = True\n",
        "\n",
        "#Both of the following statement work the same\n",
        "\n",
        "if(disease == True):\n",
        "    print(\"I am sick\")\n",
        "\n",
        "if(disease):\n",
        "    print(\"I am still sick\")\n",
        "\n"
      ],
      "metadata": {
        "colab": {
          "base_uri": "https://localhost:8080/"
        },
        "id": "gmsa01hPfm3O",
        "outputId": "bbd156a5-fccd-4db8-dca7-e612bd984f16"
      },
      "execution_count": 5,
      "outputs": [
        {
          "output_type": "stream",
          "name": "stdout",
          "text": [
            "I am sick\n",
            "I am still sick\n"
          ]
        }
      ]
    },
    {
      "cell_type": "markdown",
      "source": [
        "elif statement:\n",
        "\n",
        "\n",
        "*   Must come after in if statement\n",
        "*   Means otherwise if some condition is true\n",
        "*   There can be as if statements as needed\n",
        "\n",
        "\n",
        "\n",
        "\n",
        "\n"
      ],
      "metadata": {
        "id": "Ne8lrgEMhkBH"
      }
    },
    {
      "cell_type": "code",
      "source": [
        "disease = True\n",
        "cured = False\n",
        "\n",
        "if(disease and not cured):\n",
        " print(\"I am sick\")\n",
        "elif(disease and cured):\n",
        " print(\"I was sick, now I am cured :)\")"
      ],
      "metadata": {
        "colab": {
          "base_uri": "https://localhost:8080/"
        },
        "id": "R9CdMvVFiFAg",
        "outputId": "442fa5e4-f4ab-480e-e146-bf7e57d60e36"
      },
      "execution_count": 8,
      "outputs": [
        {
          "output_type": "stream",
          "name": "stdout",
          "text": [
            "I am sick\n"
          ]
        }
      ]
    },
    {
      "cell_type": "markdown",
      "source": [
        "else  Statement:\n",
        "\n",
        "\n",
        "*   Means none of the above condition are true\n",
        "\n"
      ],
      "metadata": {
        "id": "fBARnxY1jEw_"
      }
    },
    {
      "cell_type": "code",
      "source": [
        "disease = True\n",
        "cured = False\n",
        "\n",
        "if(disease and not cured):\n",
        " print(\"I am sick\")\n",
        "elif(disease and cured):\n",
        " print(\"I was sick, now I am cured :)\")\n",
        "else:\n",
        "  print(\"I am not sick\")\n"
      ],
      "metadata": {
        "colab": {
          "base_uri": "https://localhost:8080/"
        },
        "id": "Kfgi4vcyjREL",
        "outputId": "7d520767-8a48-4d07-b16d-5489587a9426"
      },
      "execution_count": 13,
      "outputs": [
        {
          "output_type": "stream",
          "name": "stdout",
          "text": [
            "I am sick\n"
          ]
        }
      ]
    },
    {
      "cell_type": "code",
      "source": [
        "disease = True\n",
        "cured = False\n",
        "\n",
        "if(disease and not cured):\n",
        " print(\"I am sick\")\n",
        "\n",
        "else:\n",
        "  print(\"I am not sick\")"
      ],
      "metadata": {
        "colab": {
          "base_uri": "https://localhost:8080/"
        },
        "id": "LIqM8OwxmSmW",
        "outputId": "72c52eba-790b-4068-ffc3-8eac3084d685"
      },
      "execution_count": 14,
      "outputs": [
        {
          "output_type": "stream",
          "name": "stdout",
          "text": [
            "I am sick\n"
          ]
        }
      ]
    },
    {
      "cell_type": "markdown",
      "source": [
        "Loops"
      ],
      "metadata": {
        "id": "oFEoZ_ADncjT"
      }
    },
    {
      "cell_type": "code",
      "source": [
        "# Write a code to find 2 power of 50\n",
        "# Create a variable (in this case i) and give it a range (start value, end value+1, add_value for each time)\n",
        "# It will keep looping again and again adding the add_value each time\n",
        "# everything that is intended is in the loop\n",
        "\n",
        "for i in range(0,51,1):\n",
        " print(2**i)"
      ],
      "metadata": {
        "colab": {
          "base_uri": "https://localhost:8080/"
        },
        "id": "9hIjS75-ncAH",
        "outputId": "ba62f26d-51dd-41da-84c9-243605af34e7"
      },
      "execution_count": 17,
      "outputs": [
        {
          "output_type": "stream",
          "name": "stdout",
          "text": [
            "1\n",
            "2\n",
            "4\n",
            "8\n",
            "16\n",
            "32\n",
            "64\n",
            "128\n",
            "256\n",
            "512\n",
            "1024\n",
            "2048\n",
            "4096\n",
            "8192\n",
            "16384\n",
            "32768\n",
            "65536\n",
            "131072\n",
            "262144\n",
            "524288\n",
            "1048576\n",
            "2097152\n",
            "4194304\n",
            "8388608\n",
            "16777216\n",
            "33554432\n",
            "67108864\n",
            "134217728\n",
            "268435456\n",
            "536870912\n",
            "1073741824\n",
            "2147483648\n",
            "4294967296\n",
            "8589934592\n",
            "17179869184\n",
            "34359738368\n",
            "68719476736\n",
            "137438953472\n",
            "274877906944\n",
            "549755813888\n",
            "1099511627776\n",
            "2199023255552\n",
            "4398046511104\n",
            "8796093022208\n",
            "17592186044416\n",
            "35184372088832\n",
            "70368744177664\n",
            "140737488355328\n",
            "281474976710656\n",
            "562949953421312\n",
            "1125899906842624\n"
          ]
        }
      ]
    },
    {
      "cell_type": "code",
      "source": [
        "# You can also just print out i (notice the how the add_value defaults to 1 and the start_value defaults to 0\n",
        "for i in range(10):\n",
        " print(i)"
      ],
      "metadata": {
        "colab": {
          "base_uri": "https://localhost:8080/"
        },
        "id": "toiilmD9pmkt",
        "outputId": "a25c80f6-de13-46da-bcaa-87da0521ae63"
      },
      "execution_count": 18,
      "outputs": [
        {
          "output_type": "stream",
          "name": "stdout",
          "text": [
            "0\n",
            "1\n",
            "2\n",
            "3\n",
            "4\n",
            "5\n",
            "6\n",
            "7\n",
            "8\n",
            "9\n"
          ]
        }
      ]
    },
    {
      "cell_type": "markdown",
      "source": [
        "While Loop"
      ],
      "metadata": {
        "id": "Nzec32-M2MIv"
      }
    },
    {
      "cell_type": "code",
      "source": [
        "myAge =  0\n",
        "while 0<=myAge<=5:\n",
        "  print(\"I am \"+str(myAge)+\" years old\")\n",
        "  myAge+=1 #myAge +=1"
      ],
      "metadata": {
        "colab": {
          "base_uri": "https://localhost:8080/"
        },
        "id": "6fFupwO92NZY",
        "outputId": "aae52646-5d8c-41d0-8d55-9b2d182e424b"
      },
      "execution_count": 20,
      "outputs": [
        {
          "output_type": "stream",
          "name": "stdout",
          "text": [
            "I am 0 years old\n",
            "I am 1 years old\n",
            "I am 2 years old\n",
            "I am 3 years old\n",
            "I am 4 years old\n",
            "I am 5 years old\n"
          ]
        }
      ]
    },
    {
      "cell_type": "markdown",
      "source": [
        "FUNCTIONS\n"
      ],
      "metadata": {
        "id": "cwvEkTbW5hkj"
      }
    }
  ]
}