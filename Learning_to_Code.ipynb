{
  "nbformat": 4,
  "nbformat_minor": 0,
  "metadata": {
    "colab": {
      "provenance": [],
      "authorship_tag": "ABX9TyOo+I1wyORb80+dB712mOtP",
      "include_colab_link": true
    },
    "kernelspec": {
      "name": "python3",
      "display_name": "Python 3"
    },
    "language_info": {
      "name": "python"
    }
  },
  "cells": [
    {
      "cell_type": "markdown",
      "metadata": {
        "id": "view-in-github",
        "colab_type": "text"
      },
      "source": [
        "<a href=\"https://colab.research.google.com/github/DevanshikaPiparsania/Basic-Fundamentals-Presentations/blob/main/Learning_to_Code.ipynb\" target=\"_parent\"><img src=\"https://colab.research.google.com/assets/colab-badge.svg\" alt=\"Open In Colab\"/></a>"
      ]
    },
    {
      "cell_type": "markdown",
      "source": [],
      "metadata": {
        "id": "hU41IAav7ZpS"
      }
    },
    {
      "cell_type": "code",
      "execution_count": null,
      "metadata": {
        "colab": {
          "base_uri": "https://localhost:8080/"
        },
        "id": "UllONJs0lr_r",
        "outputId": "9858716b-5cc7-4fe6-fb44-a96d2bc195d1"
      },
      "outputs": [
        {
          "output_type": "stream",
          "name": "stdout",
          "text": [
            "Hello World\n"
          ]
        }
      ],
      "source": [
        "print(\"Hello World\")"
      ]
    },
    {
      "cell_type": "code",
      "source": [
        "print(hello)"
      ],
      "metadata": {
        "colab": {
          "base_uri": "https://localhost:8080/",
          "height": 141
        },
        "id": "uVRKCILDv5dS",
        "outputId": "c698d25f-ead9-4d6c-e93c-c4c873cc808a"
      },
      "execution_count": null,
      "outputs": [
        {
          "output_type": "error",
          "ename": "NameError",
          "evalue": "name 'hello' is not defined",
          "traceback": [
            "\u001b[0;31m---------------------------------------------------------------------------\u001b[0m",
            "\u001b[0;31mNameError\u001b[0m                                 Traceback (most recent call last)",
            "\u001b[0;32m<ipython-input-4-1cd80308eb4c>\u001b[0m in \u001b[0;36m<cell line: 1>\u001b[0;34m()\u001b[0m\n\u001b[0;32m----> 1\u001b[0;31m \u001b[0mprint\u001b[0m\u001b[0;34m(\u001b[0m\u001b[0mhello\u001b[0m\u001b[0;34m)\u001b[0m\u001b[0;34m\u001b[0m\u001b[0;34m\u001b[0m\u001b[0m\n\u001b[0m",
            "\u001b[0;31mNameError\u001b[0m: name 'hello' is not defined"
          ]
        }
      ]
    },
    {
      "cell_type": "code",
      "source": [
        "msg = \"Hello World!!\"\n",
        "print(msg)\n",
        "hasCat=True\n",
        "print(\"I have a cat:\"+str(hasCat)) #<-- This is a string concatination, I am adding a String to a variable the boolean become a tring by using stt()\n",
        "age =  6\n",
        "print(\"I am \"+str(age)+\" years old\")\n",
        "balance = 25000.25\n",
        "print(\"You have\"+str(balance)+\"balance left in your bank account\")"
      ],
      "metadata": {
        "colab": {
          "base_uri": "https://localhost:8080/"
        },
        "id": "A5pSpDm2x47y",
        "outputId": "4b8f91a6-725c-4f0a-f63e-4889481207df"
      },
      "execution_count": null,
      "outputs": [
        {
          "output_type": "stream",
          "name": "stdout",
          "text": [
            "Hello World!!\n",
            "I have a cat:True\n",
            "I am 6 years old\n",
            "You have25000.25balance left in your bank account\n"
          ]
        }
      ]
    },
    {
      "cell_type": "code",
      "source": [
        "FirstName? = \"Tom\""
      ],
      "metadata": {
        "colab": {
          "base_uri": "https://localhost:8080/",
          "height": 106
        },
        "id": "l8oVZMeG4TNj",
        "outputId": "6b1d3a79-da6c-4844-bddc-6cdfc659da86"
      },
      "execution_count": null,
      "outputs": [
        {
          "output_type": "error",
          "ename": "SyntaxError",
          "evalue": "invalid syntax (<ipython-input-10-1fb19b858bb0>, line 1)",
          "traceback": [
            "\u001b[0;36m  File \u001b[0;32m\"<ipython-input-10-1fb19b858bb0>\"\u001b[0;36m, line \u001b[0;32m1\u001b[0m\n\u001b[0;31m    FirstName? = \"Tom\"\u001b[0m\n\u001b[0m             ^\u001b[0m\n\u001b[0;31mSyntaxError\u001b[0m\u001b[0;31m:\u001b[0m invalid syntax\n"
          ]
        }
      ]
    },
    {
      "cell_type": "code",
      "source": [
        "First_Name = \"Tom\"\n",
        "print(First_Name)"
      ],
      "metadata": {
        "colab": {
          "base_uri": "https://localhost:8080/"
        },
        "id": "hD7mb2-64WHL",
        "outputId": "f632a8cc-f23b-4cc3-f29d-adc3d876cdb6"
      },
      "execution_count": null,
      "outputs": [
        {
          "output_type": "stream",
          "name": "stdout",
          "text": [
            "Tom\n"
          ]
        }
      ]
    },
    {
      "cell_type": "code",
      "source": [
        "First-Name = True"
      ],
      "metadata": {
        "colab": {
          "base_uri": "https://localhost:8080/",
          "height": 106
        },
        "id": "lCPRtWUF4mqb",
        "outputId": "87a2af50-e5b4-46dd-bba2-7798775ba336"
      },
      "execution_count": null,
      "outputs": [
        {
          "output_type": "error",
          "ename": "SyntaxError",
          "evalue": "cannot assign to expression here. Maybe you meant '==' instead of '='? (<ipython-input-13-3a97e1b0c1e6>, line 1)",
          "traceback": [
            "\u001b[0;36m  File \u001b[0;32m\"<ipython-input-13-3a97e1b0c1e6>\"\u001b[0;36m, line \u001b[0;32m1\u001b[0m\n\u001b[0;31m    First-Name = True\u001b[0m\n\u001b[0m    ^\u001b[0m\n\u001b[0;31mSyntaxError\u001b[0m\u001b[0;31m:\u001b[0m cannot assign to expression here. Maybe you meant '==' instead of '='?\n"
          ]
        }
      ]
    },
    {
      "cell_type": "code",
      "source": [
        "x=5\n",
        "X=7\n",
        "print(x)\n",
        "print(X)"
      ],
      "metadata": {
        "colab": {
          "base_uri": "https://localhost:8080/"
        },
        "id": "0fixm9uz4WpJ",
        "outputId": "386137ce-74d6-47b6-c61f-bdfa14d088ee"
      },
      "execution_count": null,
      "outputs": [
        {
          "output_type": "stream",
          "name": "stdout",
          "text": [
            "5\n",
            "7\n"
          ]
        }
      ]
    },
    {
      "cell_type": "code",
      "source": [
        "x= \"Dog\"\n",
        "y=\"cat\"\n",
        "z=\"Dog\"\n",
        "print(x==y)\n",
        "print(x==z)"
      ],
      "metadata": {
        "colab": {
          "base_uri": "https://localhost:8080/"
        },
        "id": "W9cMHqir8vNW",
        "outputId": "4befc040-e904-4bd7-e259-19988dd49f6a"
      },
      "execution_count": null,
      "outputs": [
        {
          "output_type": "stream",
          "name": "stdout",
          "text": [
            "False\n",
            "True\n"
          ]
        }
      ]
    },
    {
      "cell_type": "code",
      "source": [
        "x= \"Dog\"\n",
        "y=\"cat\"\n",
        "z=\"Dog\"\n",
        "print(x!=y)\n",
        "print(x=z)"
      ],
      "metadata": {
        "colab": {
          "base_uri": "https://localhost:8080/"
        },
        "id": "IwbRtGUm9xwj",
        "outputId": "d9705cfb-bf9e-4030-ffb8-654a42d0f045"
      },
      "execution_count": null,
      "outputs": [
        {
          "output_type": "stream",
          "name": "stdout",
          "text": [
            "True\n",
            "False\n"
          ]
        }
      ]
    },
    {
      "cell_type": "markdown",
      "source": [
        "*Logical Operator*"
      ],
      "metadata": {
        "id": "ZBofF_Jg_uvY"
      }
    },
    {
      "cell_type": "markdown",
      "source": [
        "AND"
      ],
      "metadata": {
        "id": "VWSfGPKjAMfd"
      }
    },
    {
      "cell_type": "code",
      "source": [
        "x= True\n",
        "y= False\n",
        "z= True\n",
        "print(x and y)\n",
        "print (x and z)"
      ],
      "metadata": {
        "colab": {
          "base_uri": "https://localhost:8080/"
        },
        "id": "w9rpk966_s7R",
        "outputId": "6f40f988-122c-4ce7-d366-da14d821f725"
      },
      "execution_count": null,
      "outputs": [
        {
          "output_type": "stream",
          "name": "stdout",
          "text": [
            "False\n",
            "True\n"
          ]
        }
      ]
    },
    {
      "cell_type": "markdown",
      "source": [
        "OR"
      ],
      "metadata": {
        "id": "as_3t1nMAafg"
      }
    },
    {
      "cell_type": "code",
      "source": [
        "x= True\n",
        "y= False\n",
        "z= False\n",
        "print(x or y)\n",
        "print (y or z)"
      ],
      "metadata": {
        "colab": {
          "base_uri": "https://localhost:8080/"
        },
        "id": "uSc3QasVAda_",
        "outputId": "2471181e-ad90-4758-c3cd-ee9684aac36c"
      },
      "execution_count": null,
      "outputs": [
        {
          "output_type": "stream",
          "name": "stdout",
          "text": [
            "True\n",
            "False\n"
          ]
        }
      ]
    },
    {
      "cell_type": "markdown",
      "source": [
        "NOT"
      ],
      "metadata": {
        "id": "mNK9wmtsAo40"
      }
    },
    {
      "cell_type": "code",
      "source": [
        "x= True\n",
        "y= False\n",
        "print(not x)\n",
        "print (not y)"
      ],
      "metadata": {
        "colab": {
          "base_uri": "https://localhost:8080/"
        },
        "id": "gml1_y6zAygc",
        "outputId": "e2ba41ac-4975-4ad5-f511-320f44bfd641"
      },
      "execution_count": null,
      "outputs": [
        {
          "output_type": "stream",
          "name": "stdout",
          "text": [
            "False\n",
            "True\n"
          ]
        }
      ]
    },
    {
      "cell_type": "markdown",
      "source": [
        "Conditional -> Putting it together"
      ],
      "metadata": {
        "id": "4yribyG3fhj4"
      }
    },
    {
      "cell_type": "code",
      "source": [
        "disease = True\n",
        "\n",
        "#Both of the following statement work the same\n",
        "\n",
        "if(disease == True):\n",
        "    print(\"I am sick\")\n",
        "\n",
        "if(disease):\n",
        "    print(\"I am still sick\")\n",
        "\n"
      ],
      "metadata": {
        "colab": {
          "base_uri": "https://localhost:8080/"
        },
        "id": "gmsa01hPfm3O",
        "outputId": "bbd156a5-fccd-4db8-dca7-e612bd984f16"
      },
      "execution_count": null,
      "outputs": [
        {
          "output_type": "stream",
          "name": "stdout",
          "text": [
            "I am sick\n",
            "I am still sick\n"
          ]
        }
      ]
    },
    {
      "cell_type": "markdown",
      "source": [
        "elif statement:\n",
        "\n",
        "\n",
        "*   Must come after in if statement\n",
        "*   Means otherwise if some condition is true\n",
        "*   There can be as if statements as needed\n",
        "\n",
        "\n",
        "\n",
        "\n",
        "\n"
      ],
      "metadata": {
        "id": "Ne8lrgEMhkBH"
      }
    },
    {
      "cell_type": "code",
      "source": [
        "disease = True\n",
        "cured = False\n",
        "\n",
        "if(disease and not cured):\n",
        " print(\"I am sick\")\n",
        "elif(disease and cured):\n",
        " print(\"I was sick, now I am cured :)\")"
      ],
      "metadata": {
        "colab": {
          "base_uri": "https://localhost:8080/"
        },
        "id": "R9CdMvVFiFAg",
        "outputId": "442fa5e4-f4ab-480e-e146-bf7e57d60e36"
      },
      "execution_count": null,
      "outputs": [
        {
          "output_type": "stream",
          "name": "stdout",
          "text": [
            "I am sick\n"
          ]
        }
      ]
    },
    {
      "cell_type": "markdown",
      "source": [
        "else  Statement:\n",
        "\n",
        "\n",
        "*   Means none of the above condition are true\n",
        "\n"
      ],
      "metadata": {
        "id": "fBARnxY1jEw_"
      }
    },
    {
      "cell_type": "code",
      "source": [
        "disease = True\n",
        "cured = False\n",
        "\n",
        "if(disease and not cured):\n",
        " print(\"I am sick\")\n",
        "elif(disease and cured):\n",
        " print(\"I was sick, now I am cured :)\")\n",
        "else:\n",
        "  print(\"I am not sick\")\n"
      ],
      "metadata": {
        "colab": {
          "base_uri": "https://localhost:8080/"
        },
        "id": "Kfgi4vcyjREL",
        "outputId": "7d520767-8a48-4d07-b16d-5489587a9426"
      },
      "execution_count": null,
      "outputs": [
        {
          "output_type": "stream",
          "name": "stdout",
          "text": [
            "I am sick\n"
          ]
        }
      ]
    },
    {
      "cell_type": "code",
      "source": [
        "disease = True\n",
        "cured = False\n",
        "\n",
        "if(disease and not cured):\n",
        " print(\"I am sick\")\n",
        "\n",
        "else:\n",
        "  print(\"I am not sick\")"
      ],
      "metadata": {
        "colab": {
          "base_uri": "https://localhost:8080/"
        },
        "id": "LIqM8OwxmSmW",
        "outputId": "72c52eba-790b-4068-ffc3-8eac3084d685"
      },
      "execution_count": null,
      "outputs": [
        {
          "output_type": "stream",
          "name": "stdout",
          "text": [
            "I am sick\n"
          ]
        }
      ]
    },
    {
      "cell_type": "markdown",
      "source": [
        "Loops"
      ],
      "metadata": {
        "id": "oFEoZ_ADncjT"
      }
    },
    {
      "cell_type": "code",
      "source": [
        "# Write a code to find 2 power of 50\n",
        "# Create a variable (in this case i) and give it a range (start value, end value+1, add_value for each time)\n",
        "# It will keep looping again and again adding the add_value each time\n",
        "# everything that is intended is in the loop\n",
        "\n",
        "for i in range(0,51,1):\n",
        " print(2**i)"
      ],
      "metadata": {
        "colab": {
          "base_uri": "https://localhost:8080/"
        },
        "id": "9hIjS75-ncAH",
        "outputId": "ba62f26d-51dd-41da-84c9-243605af34e7"
      },
      "execution_count": null,
      "outputs": [
        {
          "output_type": "stream",
          "name": "stdout",
          "text": [
            "1\n",
            "2\n",
            "4\n",
            "8\n",
            "16\n",
            "32\n",
            "64\n",
            "128\n",
            "256\n",
            "512\n",
            "1024\n",
            "2048\n",
            "4096\n",
            "8192\n",
            "16384\n",
            "32768\n",
            "65536\n",
            "131072\n",
            "262144\n",
            "524288\n",
            "1048576\n",
            "2097152\n",
            "4194304\n",
            "8388608\n",
            "16777216\n",
            "33554432\n",
            "67108864\n",
            "134217728\n",
            "268435456\n",
            "536870912\n",
            "1073741824\n",
            "2147483648\n",
            "4294967296\n",
            "8589934592\n",
            "17179869184\n",
            "34359738368\n",
            "68719476736\n",
            "137438953472\n",
            "274877906944\n",
            "549755813888\n",
            "1099511627776\n",
            "2199023255552\n",
            "4398046511104\n",
            "8796093022208\n",
            "17592186044416\n",
            "35184372088832\n",
            "70368744177664\n",
            "140737488355328\n",
            "281474976710656\n",
            "562949953421312\n",
            "1125899906842624\n"
          ]
        }
      ]
    },
    {
      "cell_type": "code",
      "source": [
        "# You can also just print out i (notice the how the add_value defaults to 1 and the start_value defaults to 0\n",
        "for i in range(10):\n",
        " print(i)"
      ],
      "metadata": {
        "colab": {
          "base_uri": "https://localhost:8080/"
        },
        "id": "toiilmD9pmkt",
        "outputId": "a25c80f6-de13-46da-bcaa-87da0521ae63"
      },
      "execution_count": null,
      "outputs": [
        {
          "output_type": "stream",
          "name": "stdout",
          "text": [
            "0\n",
            "1\n",
            "2\n",
            "3\n",
            "4\n",
            "5\n",
            "6\n",
            "7\n",
            "8\n",
            "9\n"
          ]
        }
      ]
    },
    {
      "cell_type": "markdown",
      "source": [
        "While Loop"
      ],
      "metadata": {
        "id": "Nzec32-M2MIv"
      }
    },
    {
      "cell_type": "code",
      "source": [
        "myAge =  0\n",
        "while 0<=myAge<=5:\n",
        "  print(\"I am \"+str(myAge)+\" years old\")\n",
        "  myAge+=1 #myAge +=1"
      ],
      "metadata": {
        "colab": {
          "base_uri": "https://localhost:8080/"
        },
        "id": "6fFupwO92NZY",
        "outputId": "aae52646-5d8c-41d0-8d55-9b2d182e424b"
      },
      "execution_count": null,
      "outputs": [
        {
          "output_type": "stream",
          "name": "stdout",
          "text": [
            "I am 0 years old\n",
            "I am 1 years old\n",
            "I am 2 years old\n",
            "I am 3 years old\n",
            "I am 4 years old\n",
            "I am 5 years old\n"
          ]
        }
      ]
    },
    {
      "cell_type": "markdown",
      "source": [
        "FUNCTIONS\n"
      ],
      "metadata": {
        "id": "cwvEkTbW5hkj"
      }
    },
    {
      "cell_type": "markdown",
      "source": [
        "Functions  are a way to organize and reuse code. For example if i wanted to add the first n numbers for any number n, I could use a function to reuse the code. Here is the Syntax:\n"
      ],
      "metadata": {
        "id": "hgsbcHLv5zYT"
      }
    },
    {
      "cell_type": "code",
      "source": [
        "# The numbers in the paranthesis is a parameter which you will call\n",
        "def addFirstNNums(n):\n",
        " sum = 0\n",
        " for i in range(n+1):\n",
        "  sum = sum + i # you can write this as sum+=n as well\n",
        " return sum # give the value back out of the function\n",
        "\n",
        "#functions dont run unless they are called\n",
        "\n",
        "print(addFirstNNums(10))\n",
        "print(addFirstNNums(5))"
      ],
      "metadata": {
        "colab": {
          "base_uri": "https://localhost:8080/"
        },
        "id": "YP71dvvc6Vkt",
        "outputId": "a3f205a7-79bc-4828-8ee8-9a44eeb7a584"
      },
      "execution_count": null,
      "outputs": [
        {
          "output_type": "stream",
          "name": "stdout",
          "text": [
            "55\n",
            "15\n"
          ]
        }
      ]
    },
    {
      "cell_type": "markdown",
      "source": [
        "LIST"
      ],
      "metadata": {
        "id": "dRUlxqO9Csoc"
      }
    },
    {
      "cell_type": "markdown",
      "source": [
        "List are used to store data. for wxample if you want to store the ages of 10 people you could use a list to store it.\n"
      ],
      "metadata": {
        "id": "kLY8z9KICt4Y"
      }
    },
    {
      "cell_type": "code",
      "source": [
        "# Storing the ages of people\n",
        "ages  = [10,15,20,25,30,35,40,45,50,55]\n"
      ],
      "metadata": {
        "id": "ECa-M12CDGEH"
      },
      "execution_count": null,
      "outputs": []
    },
    {
      "cell_type": "markdown",
      "source": [
        "You can also index into an array to gets specific numbers. Indexes stars from 0. for example, in the list above the index of 0 is 10,  index of 1 is 15, index of two is 20,....,index of nine is 55"
      ],
      "metadata": {
        "id": "oNhZa1o8Da3P"
      }
    },
    {
      "cell_type": "code",
      "source": [
        "print(ages[0]) # Return the value from index 0\n",
        "print(ages[9]) # Return the value from index 9\n"
      ],
      "metadata": {
        "colab": {
          "base_uri": "https://localhost:8080/"
        },
        "id": "cRrr1RPyEAZD",
        "outputId": "b30f5101-65b7-4248-f205-153235a3ded5"
      },
      "execution_count": null,
      "outputs": [
        {
          "output_type": "stream",
          "name": "stdout",
          "text": [
            "10\n",
            "55\n"
          ]
        }
      ]
    },
    {
      "cell_type": "markdown",
      "source": [
        "These are the most important list function"
      ],
      "metadata": {
        "id": "mQ0wZ8ZOEgR5"
      }
    },
    {
      "cell_type": "code",
      "source": [
        "nums = [1,2,3,4,5]\n",
        "nums.append(6) # add 6 to the end of the list\n",
        "print(\"append() add 6 to the end \", nums)\n",
        "nums.insert(2,9) # Add 9 to the index of 2\n",
        "print(\"insert() add 9 to the index of 2\",nums)\n",
        "nums.remove(3) #Remove first occurance of 3 from the list\n",
        "print(\"remove() removes 3\",nums)\n",
        "removed =nums.pop(0) # Removed items at index of 3 and return the value popped\n",
        "print(\"pop() removes index 0\", nums,\"removed val:\",removed)\n",
        "numOfVal = nums.count(3) # Returns number of time 3 occurs in the list\n",
        "print(\"count() count of 3\", numOfVal)\n",
        "lenOfList = len(nums) # Returns the length of the list\n",
        "print(\"len() length of the list\", lenOfList)\n",
        "\n"
      ],
      "metadata": {
        "colab": {
          "base_uri": "https://localhost:8080/"
        },
        "id": "IJ-tEiW0EjHT",
        "outputId": "7213093b-ffcf-465e-e5fe-4a2e7458f7f3"
      },
      "execution_count": null,
      "outputs": [
        {
          "output_type": "stream",
          "name": "stdout",
          "text": [
            "append() add 6 to the end  [1, 2, 3, 4, 5, 6]\n",
            "insert() add 9 to the index of 2 [1, 2, 9, 3, 4, 5, 6]\n",
            "remove() removes 3 [1, 2, 9, 4, 5, 6]\n",
            "pop() removes index 0 [2, 9, 4, 5, 6] removed val: 1\n",
            "count() count of 3 0\n",
            "len() length of the list 5\n"
          ]
        }
      ]
    },
    {
      "cell_type": "markdown",
      "source": [
        "The function were append(), insert(),remove(),pop(),count(),len()\n",
        "if you ever need more function search up the sunctionality you want on google\n"
      ],
      "metadata": {
        "id": "3A7QrdFYH7FX"
      }
    },
    {
      "cell_type": "markdown",
      "source": [
        "You can also splice list like below. Try running the code  below"
      ],
      "metadata": {
        "id": "2tKfqMIxJcwa"
      }
    },
    {
      "cell_type": "code",
      "source": [
        "print(ages[0:3]) #Non Invlusive of the third index"
      ],
      "metadata": {
        "colab": {
          "base_uri": "https://localhost:8080/"
        },
        "id": "5pRQUpMFJqlH",
        "outputId": "38eced87-4300-4d6c-a77d-a19f60274b90"
      },
      "execution_count": null,
      "outputs": [
        {
          "output_type": "stream",
          "name": "stdout",
          "text": [
            "[10, 15, 20]\n"
          ]
        }
      ]
    },
    {
      "cell_type": "code",
      "source": [
        "print(ages[1:3])"
      ],
      "metadata": {
        "colab": {
          "base_uri": "https://localhost:8080/"
        },
        "id": "QIUUHOXxJ73A",
        "outputId": "378f3db6-724f-418c-b2bf-f1de67b80b9d"
      },
      "execution_count": null,
      "outputs": [
        {
          "output_type": "stream",
          "name": "stdout",
          "text": [
            "[15, 20]\n"
          ]
        }
      ]
    },
    {
      "cell_type": "markdown",
      "source": [
        "Try using Loop  with list"
      ],
      "metadata": {
        "id": "UYC4b98ZKZFf"
      }
    },
    {
      "cell_type": "code",
      "source": [
        "diseased = [1,0,0,0,1,1,1] # in this example 1 represents  the diseased and 0 represents the healthy\n",
        "for i in range(len(diseased)):\n",
        "  #len(listName) returns the size of the list\n",
        "  if(diseased[i]==1):\n",
        "    #You must use (==) to compare the two values (=) used only to assign\n",
        "    print(\"Patient\",i,\"is diseased\")\n",
        "  else:\n",
        "    print(\"Patient\",i,\"is not diseased\")"
      ],
      "metadata": {
        "colab": {
          "base_uri": "https://localhost:8080/"
        },
        "id": "x7OdcsTOKhQt",
        "outputId": "71cb2892-aa9c-4d03-fcfb-b0f278a5eb05"
      },
      "execution_count": null,
      "outputs": [
        {
          "output_type": "stream",
          "name": "stdout",
          "text": [
            "Patient 0 is diseased\n",
            "Patient 1 is not diseased\n",
            "Patient 2 is not diseased\n",
            "Patient 3 is not diseased\n",
            "Patient 4 is diseased\n",
            "Patient 5 is diseased\n",
            "Patient 6 is diseased\n"
          ]
        }
      ]
    },
    {
      "cell_type": "markdown",
      "source": [
        "Here is another example to find minimum recovery time in a set of patient. Finding the minimum and  maximum are common algorithm to know for programmers.\n",
        "\n",
        "lets say we are given a list days to recover, which repreesnts the amount of days before recovery for 6 injured patient.\n"
      ],
      "metadata": {
        "id": "CeW2aOxnPAMv"
      }
    },
    {
      "cell_type": "code",
      "source": [
        "days_to_recover = [10,20,40,5,30,20]"
      ],
      "metadata": {
        "id": "fz89dmirPvHT"
      },
      "execution_count": null,
      "outputs": []
    },
    {
      "cell_type": "markdown",
      "source": [
        "We want to find the minimum recovery time for a patient"
      ],
      "metadata": {
        "id": "RoSibTbIP2ov"
      }
    },
    {
      "cell_type": "code",
      "source": [
        "# SET THE FIRST VALUE TO MIN\n",
        "min_recovery_time = days_to_recover[0]\n",
        "#ITERATE THROUGH LOOP\n",
        "for i in range(1,len(days_to_recover)):\n",
        "  days=days_to_recover[i]\n",
        "  #For Each value in the loop check if it is less than min_recovery_time\n",
        "  if(days<min_recovery_time):\n",
        "    #IF IT IS LESS SET min_recovery_time to the new minimun or the current days to recover\n",
        "    min_recovery_time = days\n",
        "    print(min_recovery_time)\n",
        "\n",
        "\n"
      ],
      "metadata": {
        "colab": {
          "base_uri": "https://localhost:8080/"
        },
        "id": "PugCh5zgQD2z",
        "outputId": "af554b7f-8e13-4cf6-d10b-7d11d0aebe65"
      },
      "execution_count": null,
      "outputs": [
        {
          "output_type": "stream",
          "name": "stdout",
          "text": [
            "5\n"
          ]
        }
      ]
    },
    {
      "cell_type": "markdown",
      "source": [
        "Lets try doing the same thing to find the maximum receovery of time.However this time lets use a loop called for-each difference.\n"
      ],
      "metadata": {
        "id": "1yVbUHZcSkd-"
      }
    },
    {
      "cell_type": "code",
      "source": [
        "# SET THE FIRST VALUE TO MAX\n",
        "max_recovery_time = days_to_recover[0]\n",
        "#ITERATE THROUGH LOOP--> Using a for each loop -> Automatically goes to the value inside the loop without having inde\n",
        "for days in days_to_recover:\n",
        "#For Each value in the loop check if it is less than min_recovery_time\n",
        " if(days > max_recovery_time):\n",
        "    #IF IT IS LESS SET max_recovery_time to the new max or the current days to recover\n",
        "  max_recovery_time = days\n",
        "print(max_recovery_time)\n"
      ],
      "metadata": {
        "colab": {
          "base_uri": "https://localhost:8080/"
        },
        "id": "-4DTPHGOtlGQ",
        "outputId": "1e3b69bc-e170-45dc-f41f-7e2d86f01d90"
      },
      "execution_count": null,
      "outputs": [
        {
          "output_type": "stream",
          "name": "stdout",
          "text": [
            "40\n"
          ]
        }
      ]
    },
    {
      "cell_type": "markdown",
      "source": [
        "SORTING"
      ],
      "metadata": {
        "id": "MsDYFp5joenl"
      }
    },
    {
      "cell_type": "markdown",
      "source": [
        "* Another important algorithm that we can learn about is sorting.\n",
        "* Say we have a list:[1,5,2,4,5,7], How do we sort this list to  [1,2,4,5,5,7]?"
      ],
      "metadata": {
        "id": "1-JbXcfIos2l"
      }
    },
    {
      "cell_type": "markdown",
      "source": [
        "Here is the pseudo code (or the algorithm written in plain english) for selection sort:\n",
        "\n",
        "For an array of N elements\n",
        "\n",
        "* Go through 0->n-1 elements and find smallest, move smallest value to 0th index.\n",
        "* Go through remaining elements 1->n-1  and find smallest, move smallest value to 1st index.\n",
        "* ...................\n",
        "* Go through remaining elements n-2 -> n-1 and find smallest, move smallest value to n-1th index."
      ],
      "metadata": {
        "id": "vdDGc6ffo0vq"
      }
    },
    {
      "cell_type": "markdown",
      "source": [
        "Dont run the code  below until you've run the helper function in the next block."
      ],
      "metadata": {
        "id": "mfQ6nXUFvVHp"
      }
    },
    {
      "cell_type": "code",
      "source": [
        "# Selection sort\n",
        "ages = [1,9,39,35,22,43,0]\n",
        "N = len(ages)\n",
        "# the fisrt loop  is for the position we are looking for\n",
        "for i in range(0,N):\n",
        "  # Find the index of the minimum from the  position we are looking for till the end\n",
        "  minIndex = findMin(ages,i,N)\n",
        "  # move  minimum value to i by swapping the values\n",
        "  swap(ages,i,minIndex)\n",
        "print(ages)\n"
      ],
      "metadata": {
        "colab": {
          "base_uri": "https://localhost:8080/"
        },
        "id": "NCKHvhVXo3jl",
        "outputId": "ff31311b-20d0-42af-bbd5-d54239f84db1"
      },
      "execution_count": 4,
      "outputs": [
        {
          "output_type": "stream",
          "name": "stdout",
          "text": [
            "[0, 1, 9, 22, 35, 39, 43]\n"
          ]
        }
      ]
    },
    {
      "cell_type": "markdown",
      "source": [
        "Now lets write our helper function"
      ],
      "metadata": {
        "id": "SkeiD_e9uRp1"
      }
    },
    {
      "cell_type": "code",
      "source": [
        "def findMin(ages,start,end):\n",
        "  minIndex = start\n",
        "  for i in range(start,end):\n",
        "    if(ages[i]<ages[minIndex]):\n",
        "      minIndex = i\n",
        "  return minIndex\n",
        "\n",
        "\n",
        "def swap(ages,i,minIndex):\n",
        "  #Remember to save ages[i], in a temp variable as  we need the value after we change ages[i] be the ages(minIndex)\n",
        "  temp = ages[i]\n",
        "  ages[i] = ages[minIndex]\n",
        "  ages[minIndex] = temp"
      ],
      "metadata": {
        "id": "_WqnFmjFuUr2"
      },
      "execution_count": 2,
      "outputs": []
    },
    {
      "cell_type": "markdown",
      "source": [
        "If we run the code we get the sorted vaues"
      ],
      "metadata": {
        "id": "QalDFaSVuPv0"
      }
    },
    {
      "cell_type": "markdown",
      "source": [
        "Amother important concept is list comprehension.Here is an example of list comprehension below:"
      ],
      "metadata": {
        "id": "Sb7MF4WD0LbM"
      }
    },
    {
      "cell_type": "code",
      "source": [
        "# A disease is more common in people above the age 30 using the list we can use list comprehension to find how many people are at more risk to catching this disease\n",
        "\n",
        "ages = [10,17,30,35,90,70,86,33,35,24]\n",
        "riskedAges = [age for age in ages if age>30]\n",
        "riskedAges = [ages[i] for i in range(len(ages)) if ages[i]>30]\n",
        "print(riskedAges)"
      ],
      "metadata": {
        "colab": {
          "base_uri": "https://localhost:8080/"
        },
        "id": "rDfpvEDP0nUj",
        "outputId": "510c7679-eb4c-47a5-c51c-92e9ca904dde"
      },
      "execution_count": 6,
      "outputs": [
        {
          "output_type": "stream",
          "name": "stdout",
          "text": [
            "[35, 90, 70, 86, 33, 35]\n"
          ]
        }
      ]
    }
  ]
}