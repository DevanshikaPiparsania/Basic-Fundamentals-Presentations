{
  "nbformat": 4,
  "nbformat_minor": 0,
  "metadata": {
    "colab": {
      "provenance": [],
      "authorship_tag": "ABX9TyO87FiqkryZbPLTP9FmB67Q",
      "include_colab_link": true
    },
    "kernelspec": {
      "name": "python3",
      "display_name": "Python 3"
    },
    "language_info": {
      "name": "python"
    }
  },
  "cells": [
    {
      "cell_type": "markdown",
      "metadata": {
        "id": "view-in-github",
        "colab_type": "text"
      },
      "source": [
        "<a href=\"https://colab.research.google.com/github/DevanshikaPiparsania/Basic-Fundamentals-Presentations/blob/main/Intro_to_Numpy.ipynb\" target=\"_parent\"><img src=\"https://colab.research.google.com/assets/colab-badge.svg\" alt=\"Open In Colab\"/></a>"
      ]
    },
    {
      "cell_type": "markdown",
      "source": [
        "Intoduction to Numpy!!"
      ],
      "metadata": {
        "id": "Al-g10J2eMSg"
      }
    },
    {
      "cell_type": "markdown",
      "source": [
        "NumPy, short for Numerical Python, is a powerful open-source library in Python that provides support for large, multi-dimentional array and matrics, along with a collection of high level mathematical functions to operate on these arrays."
      ],
      "metadata": {
        "id": "n-YTIQGLeSwI"
      }
    },
    {
      "cell_type": "markdown",
      "source": [
        "Now, you may be thinking, wait what about lists? Well lists are great but they take long time to process. Numpy arrays are 50 times faster than python lists and have a lots of functionality! This is because numpy arrays stores data in contiguous block of memory, allowing for faster access and manipulation."
      ],
      "metadata": {
        "id": "8jSgh1NZfV3r"
      }
    },
    {
      "cell_type": "markdown",
      "source": [
        "Importing Numpy"
      ],
      "metadata": {
        "id": "_bM6aSWpgT4m"
      }
    },
    {
      "cell_type": "code",
      "execution_count": 29,
      "metadata": {
        "id": "Pcj-apNLeGdE"
      },
      "outputs": [],
      "source": [
        "import numpy as np"
      ]
    },
    {
      "cell_type": "markdown",
      "source": [
        "Creating an Array"
      ],
      "metadata": {
        "id": "SUCVipUDgmx6"
      }
    },
    {
      "cell_type": "markdown",
      "source": [
        "Creating an array is very simple. All you have to do is convert a list to an array using np.array()."
      ],
      "metadata": {
        "id": "7YJ_bl82gpy7"
      }
    },
    {
      "cell_type": "code",
      "source": [
        "arr = np.array([1, 2, 3, 4, 5]) #add a list inside\n",
        "print(arr)"
      ],
      "metadata": {
        "colab": {
          "base_uri": "https://localhost:8080/"
        },
        "id": "px5uioTvknFH",
        "outputId": "4d05c84d-3979-4328-9912-3e7390e1bdc4"
      },
      "execution_count": 10,
      "outputs": [
        {
          "output_type": "stream",
          "name": "stdout",
          "text": [
            "[1 2 3 4 5]\n"
          ]
        }
      ]
    },
    {
      "cell_type": "markdown",
      "source": [
        "You can also make n dimentional array by inputting n dimentional list"
      ],
      "metadata": {
        "id": "jvj1vpNklVFT"
      }
    },
    {
      "cell_type": "code",
      "source": [
        "arr2d = np.array([[1, 2, 3], [4, 5, 6]])\n",
        "print(\"dimensions\",arr2d.ndim)\n",
        "arr3d = np.array([[[1, 2, 3], [4, 5, 6]], [[1, 2, 3], [4, 5, 6]]])\n",
        "print(\"dimensions\",arr3d.ndim) #ndim prints out the number of dimensions\n"
      ],
      "metadata": {
        "colab": {
          "base_uri": "https://localhost:8080/"
        },
        "id": "LjjK4wWilfY8",
        "outputId": "1adf4f8b-7471-4821-e25f-dfdd883fdd2b"
      },
      "execution_count": 11,
      "outputs": [
        {
          "output_type": "stream",
          "name": "stdout",
          "text": [
            "dimensions 2\n",
            "dimensions 3\n"
          ]
        }
      ]
    },
    {
      "cell_type": "markdown",
      "source": [
        "You can also create an array with a certain number of dimensions while creating the array itself."
      ],
      "metadata": {
        "id": "-lQMzkEgmHR6"
      }
    },
    {
      "cell_type": "code",
      "source": [
        "arr5d = np.array([1, 2, 3, 4, 5], ndmin=5)\n",
        "\n",
        "print(\"dimensions\",arr5d.ndim)"
      ],
      "metadata": {
        "colab": {
          "base_uri": "https://localhost:8080/"
        },
        "id": "vOXQ9K74mTkQ",
        "outputId": "1df85849-bac6-4b2a-9917-f3d5d28d1ef4"
      },
      "execution_count": 12,
      "outputs": [
        {
          "output_type": "stream",
          "name": "stdout",
          "text": [
            "dimensions 5\n"
          ]
        }
      ]
    },
    {
      "cell_type": "markdown",
      "source": [
        "ACCESSING ARRAY ELEMENTS"
      ],
      "metadata": {
        "id": "23hBxkjkmacI"
      }
    },
    {
      "cell_type": "markdown",
      "source": [
        "Accessing elemets of an array is very similar to accessing the elements of list. You access the element by index like so ```arr_name[inx]```."
      ],
      "metadata": {
        "id": "zHfTszbKmd9s"
      }
    },
    {
      "cell_type": "code",
      "source": [
        "arr = np.array([1,2,3,4,5])\n",
        "\n",
        "print(arr[0])"
      ],
      "metadata": {
        "colab": {
          "base_uri": "https://localhost:8080/"
        },
        "id": "UyLCxsaBm2YF",
        "outputId": "c9baae0c-244f-47b3-e073-341ef6f7fc14"
      },
      "execution_count": 13,
      "outputs": [
        {
          "output_type": "stream",
          "name": "stdout",
          "text": [
            "1\n"
          ]
        }
      ]
    },
    {
      "cell_type": "markdown",
      "source": [
        "Accessing elements of a double dimenssional array is slightly different\n",
        "\n"
      ],
      "metadata": {
        "id": "VA4eJKxKnGzR"
      }
    },
    {
      "cell_type": "code",
      "source": [
        "arr = np.array([[1,2,3,4,5], [6,7,8,9,10]])\n",
        "\n",
        "print('2nd element on 1st row: ', arr[0, 1])\n",
        "print('4nd element on 2st row: ', arr[1, 3])"
      ],
      "metadata": {
        "colab": {
          "base_uri": "https://localhost:8080/"
        },
        "id": "3icUGW-7nasN",
        "outputId": "13aa1dec-6cbc-4bee-a275-d178e51ab125"
      },
      "execution_count": 14,
      "outputs": [
        {
          "output_type": "stream",
          "name": "stdout",
          "text": [
            "2nd element on 1st row:  2\n",
            "4nd element on 2st row:  9\n"
          ]
        }
      ]
    },
    {
      "cell_type": "markdown",
      "source": [
        "This same syntax can be applied for tripple dimensional, quadriple dimensional, etc,arrays.\n",
        "\n",
        "Wait for python list we had something called negative indexing. I could save list_name[-1] and it would gave me the last value of the list. Does the same thing apply for numpy arrays? and the answer is yes."
      ],
      "metadata": {
        "id": "7pdbdeAhn9_u"
      }
    },
    {
      "cell_type": "code",
      "source": [
        "arr = np.array([[1,2,3,4,5], [6,7,8,9,10]])\n",
        "\n",
        "print('Last element from 2nd dim: ', arr[1, -1])"
      ],
      "metadata": {
        "colab": {
          "base_uri": "https://localhost:8080/"
        },
        "id": "mGRBVWAx-1GJ",
        "outputId": "49921b27-bf9f-49f6-9d17-dd1ec75e690b"
      },
      "execution_count": 15,
      "outputs": [
        {
          "output_type": "stream",
          "name": "stdout",
          "text": [
            "Last element from 2nd dim:  10\n"
          ]
        }
      ]
    },
    {
      "cell_type": "markdown",
      "source": [
        "SLICING ARRAYS"
      ],
      "metadata": {
        "id": "plGy5_6x_KM3"
      }
    },
    {
      "cell_type": "markdown",
      "source": [
        "You may remember slicing from list. Well slicing with numpy arrays is very smilar. Here is an example below."
      ],
      "metadata": {
        "id": "uYJz698y_LfD"
      }
    },
    {
      "cell_type": "code",
      "source": [
        "arr = np.array([1,2,3,4,5])\n",
        "\n",
        "print(arr[1:3]) # Remembr it is nt inclusive of the"
      ],
      "metadata": {
        "colab": {
          "base_uri": "https://localhost:8080/"
        },
        "id": "EkEvwOZc_4dV",
        "outputId": "58b9f789-728f-468d-fbd4-6c9f035b681b"
      },
      "execution_count": 18,
      "outputs": [
        {
          "output_type": "stream",
          "name": "stdout",
          "text": [
            "[2 3]\n"
          ]
        }
      ]
    },
    {
      "cell_type": "markdown",
      "source": [
        "You can also leave the beginning or end parameter blank to indicate starting from the beginning of the array or end of the array (Same as for python list). Here are some examples  below:"
      ],
      "metadata": {
        "id": "iTgkuUCPCx1Z"
      }
    },
    {
      "cell_type": "code",
      "source": [
        "print (arr[:4])\n",
        "print (arr[3:])\n",
        "print (arr[:])"
      ],
      "metadata": {
        "colab": {
          "base_uri": "https://localhost:8080/"
        },
        "id": "KskAyG4bDg1v",
        "outputId": "2f31cc57-76b6-4f3f-9a74-0c4ed9e0056f"
      },
      "execution_count": 19,
      "outputs": [
        {
          "output_type": "stream",
          "name": "stdout",
          "text": [
            "[1 2 3 4]\n",
            "[4 5]\n",
            "[1 2 3 4 5]\n"
          ]
        }
      ]
    },
    {
      "cell_type": "markdown",
      "source": [
        "You can also slice  with negative indices"
      ],
      "metadata": {
        "id": "dBrxDHZAD9KK"
      }
    },
    {
      "cell_type": "code",
      "source": [
        "print (arr[-3:-1])"
      ],
      "metadata": {
        "colab": {
          "base_uri": "https://localhost:8080/"
        },
        "id": "tE9yS2TBEQLW",
        "outputId": "f93130f6-0369-473d-b783-5d1bce3fb519"
      },
      "execution_count": 20,
      "outputs": [
        {
          "output_type": "stream",
          "name": "stdout",
          "text": [
            "[3 4]\n"
          ]
        }
      ]
    },
    {
      "cell_type": "markdown",
      "source": [
        "You can add another parameter called a step when doing slicing (same for python list). The step parameters indicates if the slice is skip any number."
      ],
      "metadata": {
        "id": "ixrnqyZxEgeR"
      }
    },
    {
      "cell_type": "code",
      "source": [
        "print (arr[:4:2]) #it moves by 2 indices from the 0th index uptill the 4th index"
      ],
      "metadata": {
        "colab": {
          "base_uri": "https://localhost:8080/"
        },
        "id": "pNOe51RiFB_w",
        "outputId": "f809d5d3-a51c-4fd0-9561-3c19a6968f47"
      },
      "execution_count": 21,
      "outputs": [
        {
          "output_type": "stream",
          "name": "stdout",
          "text": [
            "[1 3]\n"
          ]
        }
      ]
    },
    {
      "cell_type": "markdown",
      "source": [
        "SO HOW O YOU SLICE THE 2D ARRAY?"
      ],
      "metadata": {
        "id": "9vUd1XMRF3nQ"
      }
    },
    {
      "cell_type": "code",
      "source": [
        "arr = np.array([[1,2,3,4,5],[6,7,8,9,10]])\n",
        "\n",
        "print (arr[1,1:4]) #choses the row you want to go to and slice that row\n",
        "\n",
        "print (arr[:,1:4]) #To Slice all the row"
      ],
      "metadata": {
        "colab": {
          "base_uri": "https://localhost:8080/"
        },
        "id": "WWqgibTnF9j3",
        "outputId": "63f8194f-fd38-4f63-dfa5-c5e4866b9968"
      },
      "execution_count": 22,
      "outputs": [
        {
          "output_type": "stream",
          "name": "stdout",
          "text": [
            "[7 8 9]\n",
            "[[2 3 4]\n",
            " [7 8 9]]\n"
          ]
        }
      ]
    },
    {
      "cell_type": "markdown",
      "source": [
        "DATA TYPES"
      ],
      "metadata": {
        "id": "lihqdI9VHUsn"
      }
    },
    {
      "cell_type": "markdown",
      "source": [
        "Sometimes when you are inputting the numpy array into a machine learning model the numpy array will have to be of a certain datatype. well you can define your own numpy arrays to have certain datatypes."
      ],
      "metadata": {
        "id": "S99p3w9cHWIR"
      }
    },
    {
      "cell_type": "markdown",
      "source": [
        "Here are all type of data structures used in numpy arrays:\n",
        "\n",
        "\n",
        "\n",
        "1.   i -> integer\n",
        "2.   b -> boolean\n",
        "3.   u -> unsigned integers\n",
        "4.   f -> float\n",
        "5.   c -> complex float\n",
        "6.   m -> timedelta\n",
        "7.   M -> datetime\n",
        "8.   O -> object\n",
        "9.   S -> string\n",
        "10.  U -> unicode string\n",
        "11.  V -> fixed chunked of memory for other type (void)\n",
        "\n",
        "To look at the data type of a numpy you can use arr.dtype\n",
        "\n",
        "\n",
        "\n"
      ],
      "metadata": {
        "id": "sOBvaVeHH8zj"
      }
    },
    {
      "cell_type": "code",
      "source": [
        "print (arr.dtype)"
      ],
      "metadata": {
        "colab": {
          "base_uri": "https://localhost:8080/"
        },
        "id": "HhzfJnoLKZTl",
        "outputId": "ac156a2f-98c1-4b97-ea58-964a445da3fb"
      },
      "execution_count": 23,
      "outputs": [
        {
          "output_type": "stream",
          "name": "stdout",
          "text": [
            "int64\n"
          ]
        }
      ]
    },
    {
      "cell_type": "markdown",
      "source": [
        "to dedine an array with a certain type you can add it as a parameter"
      ],
      "metadata": {
        "id": "w0quUdPYKkw8"
      }
    },
    {
      "cell_type": "code",
      "source": [
        "arr = np.array([1,2,3,4,5], dtype='S')\n",
        "\n",
        "print(arr)\n",
        "print(arr.dtype)"
      ],
      "metadata": {
        "colab": {
          "base_uri": "https://localhost:8080/"
        },
        "id": "oXdCrbAaK8U5",
        "outputId": "00578c4c-a7ed-46cf-e36f-5bef347ae1dd"
      },
      "execution_count": 24,
      "outputs": [
        {
          "output_type": "stream",
          "name": "stdout",
          "text": [
            "[b'1' b'2' b'3' b'4' b'5']\n",
            "|S1\n"
          ]
        }
      ]
    },
    {
      "cell_type": "markdown",
      "source": [
        "Numpy Array are an Object"
      ],
      "metadata": {
        "id": "uuVKdypBQLmc"
      }
    },
    {
      "cell_type": "markdown",
      "source": [
        "Something important to understand about Numpy Array are that they are object. This means that if you want to make a copy of an array you cannot just make a new variable and set it equal to the old array.\n",
        "\n"
      ],
      "metadata": {
        "id": "jyWbphcMQTRD"
      }
    },
    {
      "cell_type": "code",
      "source": [
        "arr = np.array([1,2,3,4,5])\n",
        "arr2 = arr\n",
        "arr2[0] = 0\n",
        "arr"
      ],
      "metadata": {
        "colab": {
          "base_uri": "https://localhost:8080/"
        },
        "id": "EtrUzt2WQS93",
        "outputId": "98fd476d-8b18-4d13-a9fd-06968ed5ffd8"
      },
      "execution_count": 32,
      "outputs": [
        {
          "output_type": "execute_result",
          "data": {
            "text/plain": [
              "array([0, 2, 3, 4, 5])"
            ]
          },
          "metadata": {},
          "execution_count": 32
        }
      ]
    },
    {
      "cell_type": "markdown",
      "source": [
        "As you can see in the above example when we set arr2 = arr, arr was also changed. This is because setting them equal to each other make them point to the same reference causing the reference to arr to change rather that arr2 to change individually.\n",
        "arr2-> reference of arr\n",
        "arr2[0] = 0 , goes to the reference of arr that it points to and changes the element in the index of 0 to 0.\n"
      ],
      "metadata": {
        "id": "DgESNgWoTxro"
      }
    },
    {
      "cell_type": "code",
      "source": [
        "arr = np.array([1,2,3,4,5])\n",
        "arr2 = arr.copy()\n",
        "arr2[0] = 0\n",
        "print(arr)\n",
        "print(arr2)"
      ],
      "metadata": {
        "colab": {
          "base_uri": "https://localhost:8080/"
        },
        "id": "rzyvy631UZOg",
        "outputId": "07219f2e-cacf-44eb-adfa-87ec92165f18"
      },
      "execution_count": 36,
      "outputs": [
        {
          "output_type": "stream",
          "name": "stdout",
          "text": [
            "[1 2 3 4 5]\n",
            "[0 2 3 4 5]\n"
          ]
        }
      ]
    },
    {
      "cell_type": "markdown",
      "source": [
        "Array Shape"
      ],
      "metadata": {
        "id": "aTFKfC6kV_8G"
      }
    },
    {
      "cell_type": "markdown",
      "source": [
        "To look at the shape of an array you can use this command"
      ],
      "metadata": {
        "id": "voa081kKWMTL"
      }
    },
    {
      "cell_type": "code",
      "source": [
        "arr = np.array([[1,2,3,4,5],[6,7,8,9,10]])\n",
        "\n",
        "print(arr.shape)\n",
        "\n",
        "arr2 = np.array([1,2,3,4,5])\n",
        "print(arr2.shape)"
      ],
      "metadata": {
        "colab": {
          "base_uri": "https://localhost:8080/"
        },
        "id": "6UAoZYUjWcYY",
        "outputId": "667dac25-5fe7-46e3-b8f5-cf0e73c0b1b2"
      },
      "execution_count": 37,
      "outputs": [
        {
          "output_type": "stream",
          "name": "stdout",
          "text": [
            "(2, 5)\n",
            "(5,)\n"
          ]
        }
      ]
    },
    {
      "cell_type": "code",
      "source": [
        "arr = np.array([1,2,3,4,5], ndmin=5)\n",
        "\n",
        "print(arr)\n",
        "print('shape of array :', arr.shape)"
      ],
      "metadata": {
        "colab": {
          "base_uri": "https://localhost:8080/"
        },
        "id": "ikmSzvyMW3S0",
        "outputId": "8b0973dc-e5f5-46b6-af0e-8e629af1b2ae"
      },
      "execution_count": 38,
      "outputs": [
        {
          "output_type": "stream",
          "name": "stdout",
          "text": [
            "[[[[[1 2 3 4 5]]]]]\n",
            "shape of array : (1, 1, 1, 1, 5)\n"
          ]
        }
      ]
    },
    {
      "cell_type": "markdown",
      "source": [
        "You can reshape the array with this command"
      ],
      "metadata": {
        "id": "6p3EF09pXISc"
      }
    },
    {
      "cell_type": "code",
      "source": [
        "arr = np.array([1,2,3,4,5,6,7,8,9,10,11,12])\n",
        "\n",
        "newarr = arr.reshape(4,3) #(ROWS, COLUMN)\n",
        "\n",
        "newarr\n",
        "\n",
        "print(newarr)"
      ],
      "metadata": {
        "colab": {
          "base_uri": "https://localhost:8080/"
        },
        "id": "NOHuxGqMXLi-",
        "outputId": "41207b10-3294-452f-e487-74aae8f8d5ba"
      },
      "execution_count": 39,
      "outputs": [
        {
          "output_type": "stream",
          "name": "stdout",
          "text": [
            "[[ 1  2  3]\n",
            " [ 4  5  6]\n",
            " [ 7  8  9]\n",
            " [10 11 12]]\n"
          ]
        }
      ]
    },
    {
      "cell_type": "code",
      "source": [
        "arr = np.array([1,2,3,4,5,6,7,8,9,10,11,12,13,14,15,16])\n",
        "\n",
        "newarr = arr.reshape(2,2,4)\n",
        "\n",
        "newarr"
      ],
      "metadata": {
        "colab": {
          "base_uri": "https://localhost:8080/"
        },
        "id": "FW0A-XKlXnUd",
        "outputId": "ad3ca64a-8d12-4e2b-a73e-5359cd676c99"
      },
      "execution_count": 40,
      "outputs": [
        {
          "output_type": "execute_result",
          "data": {
            "text/plain": [
              "array([[[ 1,  2,  3,  4],\n",
              "        [ 5,  6,  7,  8]],\n",
              "\n",
              "       [[ 9, 10, 11, 12],\n",
              "        [13, 14, 15, 16]]])"
            ]
          },
          "metadata": {},
          "execution_count": 40
        }
      ]
    },
    {
      "cell_type": "markdown",
      "source": [
        "Notice how if you multiple the parameters in the reshape method (the dimensions)\n",
        "you get the number of elements in the first array. If this is not true it will raise an error.  So what if you dont know the exact number to add for the last dimension? Well good for you! Numpy allows one unknown dimension. You can use -1 to indicate the dimension you want numpy to figureout itself. Here is an example"
      ],
      "metadata": {
        "id": "BQHNoP5MYIbR"
      }
    },
    {
      "cell_type": "code",
      "source": [
        "arr = np.array([1,2,3,4,5,6,7,8,9,10,11,12,13,14,15,16])\n",
        "newarr = arr.reshape(2,2,-1)\n",
        "newarr"
      ],
      "metadata": {
        "colab": {
          "base_uri": "https://localhost:8080/"
        },
        "id": "1PavxEjNaEuX",
        "outputId": "dc229d02-db2e-4afa-f9c9-a8491cd89205"
      },
      "execution_count": 44,
      "outputs": [
        {
          "output_type": "execute_result",
          "data": {
            "text/plain": [
              "array([[[ 1,  2,  3,  4],\n",
              "        [ 5,  6,  7,  8]],\n",
              "\n",
              "       [[ 9, 10, 11, 12],\n",
              "        [13, 14, 15, 16]]])"
            ]
          },
          "metadata": {},
          "execution_count": 44
        }
      ]
    },
    {
      "cell_type": "markdown",
      "source": [
        "To flatten an array or to convert a multidimensional array into 1 dimension array you can do this"
      ],
      "metadata": {
        "id": "vp-xGLctaohP"
      }
    },
    {
      "cell_type": "code",
      "source": [
        "arr = np.array([[1,2,3,4,5],[6,7,8,9,10]])\n",
        "\n",
        "newarr = arr.reshape(-1)\n",
        "\n",
        "newarr"
      ],
      "metadata": {
        "colab": {
          "base_uri": "https://localhost:8080/"
        },
        "id": "R7rQwJsWaz1F",
        "outputId": "a0de1e01-2acd-4adb-e3ef-a049c362d155"
      },
      "execution_count": 45,
      "outputs": [
        {
          "output_type": "execute_result",
          "data": {
            "text/plain": [
              "array([ 1,  2,  3,  4,  5,  6,  7,  8,  9, 10])"
            ]
          },
          "metadata": {},
          "execution_count": 45
        }
      ]
    },
    {
      "cell_type": "markdown",
      "source": [
        "Some other things you might want to know"
      ],
      "metadata": {
        "id": "rumaCE1BbI6J"
      }
    },
    {
      "cell_type": "markdown",
      "source": [
        "1.  Iterating through a numpy array is the same as the list\n",
        "2.  To concatinate array you can do this\n",
        "\n"
      ],
      "metadata": {
        "id": "UMamblWEbQtt"
      }
    },
    {
      "cell_type": "code",
      "source": [
        "np.concatinate((arr1,arr2))"
      ],
      "metadata": {
        "id": "uYYikiG4bqCP"
      },
      "execution_count": null,
      "outputs": []
    },
    {
      "cell_type": "code",
      "source": [
        "#Concatinate along rows\n",
        "arr1 = np.array([[1,2,3,4,5],[6,7,8,9,10]])\n",
        "arr2 = np.array([[11,12,13,14,15],[16,17,18,19,20]])\n",
        "\n",
        "newarr = np.concatenate((arr1,arr2), axis=1)\n",
        "newarr\n"
      ],
      "metadata": {
        "colab": {
          "base_uri": "https://localhost:8080/"
        },
        "id": "B7OKDf2Ib2MN",
        "outputId": "5e73aa32-c3f2-4ac6-f26f-a63e5fe0d5f7"
      },
      "execution_count": 46,
      "outputs": [
        {
          "output_type": "execute_result",
          "data": {
            "text/plain": [
              "array([[ 1,  2,  3,  4,  5, 11, 12, 13, 14, 15],\n",
              "       [ 6,  7,  8,  9, 10, 16, 17, 18, 19, 20]])"
            ]
          },
          "metadata": {},
          "execution_count": 46
        }
      ]
    },
    {
      "cell_type": "code",
      "source": [
        "#Stacking is done along a new axis (default axes is 0)\n",
        "arr1 = np.array([1,2,3,4,5])\n",
        "arr2 = np.array([6,7,8,9,10])\n",
        "\n",
        "newarr = np.stack((arr1,arr2), axis=1)\n",
        "newarr"
      ],
      "metadata": {
        "colab": {
          "base_uri": "https://localhost:8080/"
        },
        "id": "mntO8oqfcJiA",
        "outputId": "34d78b9e-0932-46be-d5c8-754c5e8fcda6"
      },
      "execution_count": 47,
      "outputs": [
        {
          "output_type": "execute_result",
          "data": {
            "text/plain": [
              "array([[ 1,  6],\n",
              "       [ 2,  7],\n",
              "       [ 3,  8],\n",
              "       [ 4,  9],\n",
              "       [ 5, 10]])"
            ]
          },
          "metadata": {},
          "execution_count": 47
        }
      ]
    }
  ]
}